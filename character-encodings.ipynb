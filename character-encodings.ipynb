{
 "cells": [
  {
   "cell_type": "code",
   "execution_count": 1,
   "id": "3203d58e",
   "metadata": {
    "_cell_guid": "b1076dfc-b9ad-4769-8c92-a6c4dae69d19",
    "_uuid": "8f2839f25d086af736a60e9eeb907d3b93b6e0e5",
    "execution": {
     "iopub.execute_input": "2022-03-10T09:04:28.790595Z",
     "iopub.status.busy": "2022-03-10T09:04:28.789446Z",
     "iopub.status.idle": "2022-03-10T09:04:28.804389Z",
     "shell.execute_reply": "2022-03-10T09:04:28.805060Z",
     "shell.execute_reply.started": "2022-03-10T06:29:05.930257Z"
    },
    "papermill": {
     "duration": 0.033403,
     "end_time": "2022-03-10T09:04:28.805412",
     "exception": false,
     "start_time": "2022-03-10T09:04:28.772009",
     "status": "completed"
    },
    "tags": []
   },
   "outputs": [],
   "source": [
    "# This Python 3 environment comes with many helpful analytics libraries installed\n",
    "# It is defined by the kaggle/python Docker image: https://github.com/kaggle/docker-python\n",
    "# For example, here's several helpful packages to load\n",
    "\n",
    "import numpy as np # linear algebra\n",
    "import pandas as pd # data processing, CSV file I/O (e.g. pd.read_csv)\n",
    "import chardet\n",
    "\n",
    "# Input data files are available in the read-only \"../input/\" directory\n",
    "# For example, running this (by clicking run or pressing Shift+Enter) will list all files under the input directory\n",
    "\n",
    "import os\n",
    "\n",
    "filepaths = []\n",
    "for dirname, _, filenames in os.walk('/kaggle/input'):\n",
    "    for filename in filenames:\n",
    "         filepaths.append(os.path.join(dirname, filename))\n",
    "       \n",
    "\n",
    "# You can write up to 20GB to the current directory (/kaggle/working/) that gets preserved as output when you create a version using \"Save & Run All\" \n",
    "# You can also write temporary files to /kaggle/temp/, but they won't be saved outside of the current session"
   ]
  },
  {
   "cell_type": "code",
   "execution_count": 2,
   "id": "5c14291b",
   "metadata": {
    "execution": {
     "iopub.execute_input": "2022-03-10T09:04:28.827820Z",
     "iopub.status.busy": "2022-03-10T09:04:28.826979Z",
     "iopub.status.idle": "2022-03-10T09:04:28.831239Z",
     "shell.execute_reply": "2022-03-10T09:04:28.831817Z",
     "shell.execute_reply.started": "2022-03-10T08:36:45.179055Z"
    },
    "papermill": {
     "duration": 0.019072,
     "end_time": "2022-03-10T09:04:28.832005",
     "exception": false,
     "start_time": "2022-03-10T09:04:28.812933",
     "status": "completed"
    },
    "tags": []
   },
   "outputs": [
    {
     "data": {
      "text/plain": [
       "['/kaggle/input/character-encoding-examples/file_guide.csv',\n",
       " '/kaggle/input/character-encoding-examples/olaf_Windows-1251.txt',\n",
       " '/kaggle/input/character-encoding-examples/shisei_UTF-8.txt',\n",
       " '/kaggle/input/character-encoding-examples/die_ISO-8859-1.txt',\n",
       " '/kaggle/input/character-encoding-examples/harpers_ASCII.txt',\n",
       " '/kaggle/input/character-encoding-examples/yan_BIG-5.txt',\n",
       " '/kaggle/input/character-encoding-examples/portugal_ISO-8859-1.txt']"
      ]
     },
     "execution_count": 2,
     "metadata": {},
     "output_type": "execute_result"
    }
   ],
   "source": [
    "#list of files\n",
    "filepaths"
   ]
  },
  {
   "cell_type": "code",
   "execution_count": 3,
   "id": "3f0169b9",
   "metadata": {
    "execution": {
     "iopub.execute_input": "2022-03-10T09:04:28.855270Z",
     "iopub.status.busy": "2022-03-10T09:04:28.854544Z",
     "iopub.status.idle": "2022-03-10T09:04:28.859730Z",
     "shell.execute_reply": "2022-03-10T09:04:28.858997Z",
     "shell.execute_reply.started": "2022-03-10T08:53:09.858603Z"
    },
    "papermill": {
     "duration": 0.018952,
     "end_time": "2022-03-10T09:04:28.859898",
     "exception": false,
     "start_time": "2022-03-10T09:04:28.840946",
     "status": "completed"
    },
    "tags": []
   },
   "outputs": [
    {
     "data": {
      "text/plain": [
       "['file_guide.csv',\n",
       " 'olaf_Windows-1251.txt',\n",
       " 'shisei_UTF-8.txt',\n",
       " 'die_ISO-8859-1.txt',\n",
       " 'harpers_ASCII.txt',\n",
       " 'yan_BIG-5.txt',\n",
       " 'portugal_ISO-8859-1.txt']"
      ]
     },
     "execution_count": 3,
     "metadata": {},
     "output_type": "execute_result"
    }
   ],
   "source": [
    "filenames"
   ]
  },
  {
   "cell_type": "code",
   "execution_count": 4,
   "id": "14856866",
   "metadata": {
    "execution": {
     "iopub.execute_input": "2022-03-10T09:04:28.881665Z",
     "iopub.status.busy": "2022-03-10T09:04:28.880976Z",
     "iopub.status.idle": "2022-03-10T09:04:28.883443Z",
     "shell.execute_reply": "2022-03-10T09:04:28.883964Z",
     "shell.execute_reply.started": "2022-03-10T08:58:42.675245Z"
    },
    "papermill": {
     "duration": 0.016551,
     "end_time": "2022-03-10T09:04:28.884186",
     "exception": false,
     "start_time": "2022-03-10T09:04:28.867635",
     "status": "completed"
    },
    "tags": []
   },
   "outputs": [],
   "source": [
    "def detect_encoding(filepath):\n",
    "    with open(filepath, 'rb') as raw_data:\n",
    "        result = chardet.detect(raw_data.read())\n",
    "    return result['encoding']  "
   ]
  },
  {
   "cell_type": "code",
   "execution_count": 5,
   "id": "8f967545",
   "metadata": {
    "execution": {
     "iopub.execute_input": "2022-03-10T09:04:28.905219Z",
     "iopub.status.busy": "2022-03-10T09:04:28.904477Z",
     "iopub.status.idle": "2022-03-10T09:04:30.246402Z",
     "shell.execute_reply": "2022-03-10T09:04:30.247063Z",
     "shell.execute_reply.started": "2022-03-10T09:03:37.731326Z"
    },
    "papermill": {
     "duration": 1.355395,
     "end_time": "2022-03-10T09:04:30.247333",
     "exception": false,
     "start_time": "2022-03-10T09:04:28.891938",
     "status": "completed"
    },
    "tags": []
   },
   "outputs": [
    {
     "name": "stdout",
     "output_type": "stream",
     "text": [
      "{'file_guide.csv': 'utf-8', 'olaf_Windows-1251.txt': 'windows-1251', 'shisei_UTF-8.txt': 'UTF-8-SIG', 'die_ISO-8859-1.txt': 'ISO-8859-1', 'harpers_ASCII.txt': 'ascii', 'yan_BIG-5.txt': 'Big5', 'portugal_ISO-8859-1.txt': 'ISO-8859-1'}\n"
     ]
    }
   ],
   "source": [
    "files = {}\n",
    "for filepath in filepaths:\n",
    "    result = detect_encoding(filepath)\n",
    "    filename = filepath.split('/')[-1]\n",
    "    files[filename] = result\n",
    "print(files)"
   ]
  }
 ],
 "metadata": {
  "kernelspec": {
   "display_name": "Python 3",
   "language": "python",
   "name": "python3"
  },
  "language_info": {
   "codemirror_mode": {
    "name": "ipython",
    "version": 3
   },
   "file_extension": ".py",
   "mimetype": "text/x-python",
   "name": "python",
   "nbconvert_exporter": "python",
   "pygments_lexer": "ipython3",
   "version": "3.7.12"
  },
  "papermill": {
   "default_parameters": {},
   "duration": 13.111555,
   "end_time": "2022-03-10T09:04:30.866147",
   "environment_variables": {},
   "exception": null,
   "input_path": "__notebook__.ipynb",
   "output_path": "__notebook__.ipynb",
   "parameters": {},
   "start_time": "2022-03-10T09:04:17.754592",
   "version": "2.3.3"
  }
 },
 "nbformat": 4,
 "nbformat_minor": 5
}
