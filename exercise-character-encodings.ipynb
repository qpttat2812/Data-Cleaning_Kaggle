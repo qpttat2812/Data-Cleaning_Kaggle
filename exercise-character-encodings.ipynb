{
 "cells": [
  {
   "cell_type": "markdown",
   "id": "6c3306c8",
   "metadata": {
    "papermill": {
     "duration": 0.013245,
     "end_time": "2022-03-09T17:15:07.163973",
     "exception": false,
     "start_time": "2022-03-09T17:15:07.150728",
     "status": "completed"
    },
    "tags": []
   },
   "source": [
    "**This notebook is an exercise in the [Data Cleaning](https://www.kaggle.com/learn/data-cleaning) course.  You can reference the tutorial at [this link](https://www.kaggle.com/alexisbcook/character-encodings).**\n",
    "\n",
    "---\n"
   ]
  },
  {
   "cell_type": "markdown",
   "id": "d92053ed",
   "metadata": {
    "papermill": {
     "duration": 0.011966,
     "end_time": "2022-03-09T17:15:07.188931",
     "exception": false,
     "start_time": "2022-03-09T17:15:07.176965",
     "status": "completed"
    },
    "tags": []
   },
   "source": [
    "In this exercise, you'll apply what you learned in the **Character encodings** tutorial.\n",
    "\n",
    "# Setup\n",
    "\n",
    "The questions below will give you feedback on your work. Run the following cell to set up the feedback system."
   ]
  },
  {
   "cell_type": "code",
   "execution_count": 1,
   "id": "ff301c38",
   "metadata": {
    "execution": {
     "iopub.execute_input": "2022-03-09T17:15:07.217800Z",
     "iopub.status.busy": "2022-03-09T17:15:07.216744Z",
     "iopub.status.idle": "2022-03-09T17:15:07.296797Z",
     "shell.execute_reply": "2022-03-09T17:15:07.297218Z",
     "shell.execute_reply.started": "2022-03-09T16:52:07.250252Z"
    },
    "papermill": {
     "duration": 0.09631,
     "end_time": "2022-03-09T17:15:07.297513",
     "exception": false,
     "start_time": "2022-03-09T17:15:07.201203",
     "status": "completed"
    },
    "tags": []
   },
   "outputs": [
    {
     "name": "stdout",
     "output_type": "stream",
     "text": [
      "Setup Complete\n"
     ]
    }
   ],
   "source": [
    "from learntools.core import binder\n",
    "binder.bind(globals())\n",
    "from learntools.data_cleaning.ex4 import *\n",
    "print(\"Setup Complete\")"
   ]
  },
  {
   "cell_type": "markdown",
   "id": "bade8caa",
   "metadata": {
    "papermill": {
     "duration": 0.012547,
     "end_time": "2022-03-09T17:15:07.323365",
     "exception": false,
     "start_time": "2022-03-09T17:15:07.310818",
     "status": "completed"
    },
    "tags": []
   },
   "source": [
    "# Get our environment set up\n",
    "\n",
    "The first thing we'll need to do is load in the libraries we'll be using."
   ]
  },
  {
   "cell_type": "code",
   "execution_count": 2,
   "id": "32df6dd3",
   "metadata": {
    "execution": {
     "iopub.execute_input": "2022-03-09T17:15:07.351778Z",
     "iopub.status.busy": "2022-03-09T17:15:07.351162Z",
     "iopub.status.idle": "2022-03-09T17:15:07.354731Z",
     "shell.execute_reply": "2022-03-09T17:15:07.355230Z",
     "shell.execute_reply.started": "2022-03-09T16:52:10.660936Z"
    },
    "papermill": {
     "duration": 0.019195,
     "end_time": "2022-03-09T17:15:07.355403",
     "exception": false,
     "start_time": "2022-03-09T17:15:07.336208",
     "status": "completed"
    },
    "tags": []
   },
   "outputs": [],
   "source": [
    "# modules we'll use\n",
    "import pandas as pd\n",
    "import numpy as np\n",
    "\n",
    "# helpful character encoding module\n",
    "import chardet\n",
    "\n",
    "# set seed for reproducibility\n",
    "np.random.seed(0)"
   ]
  },
  {
   "cell_type": "markdown",
   "id": "8da92c51",
   "metadata": {
    "papermill": {
     "duration": 0.012482,
     "end_time": "2022-03-09T17:15:07.380696",
     "exception": false,
     "start_time": "2022-03-09T17:15:07.368214",
     "status": "completed"
    },
    "tags": []
   },
   "source": [
    "# 1) What are encodings?\n",
    "\n",
    "You're working with a dataset composed of bytes.  Run the code cell below to print a sample entry."
   ]
  },
  {
   "cell_type": "code",
   "execution_count": 3,
   "id": "10dd9577",
   "metadata": {
    "execution": {
     "iopub.execute_input": "2022-03-09T17:15:07.410087Z",
     "iopub.status.busy": "2022-03-09T17:15:07.409469Z",
     "iopub.status.idle": "2022-03-09T17:15:07.414633Z",
     "shell.execute_reply": "2022-03-09T17:15:07.414150Z",
     "shell.execute_reply.started": "2022-03-09T16:56:52.564667Z"
    },
    "papermill": {
     "duration": 0.020841,
     "end_time": "2022-03-09T17:15:07.414775",
     "exception": false,
     "start_time": "2022-03-09T17:15:07.393934",
     "status": "completed"
    },
    "tags": []
   },
   "outputs": [
    {
     "name": "stdout",
     "output_type": "stream",
     "text": [
      "b'\\xa7A\\xa6n'\n",
      "data type: <class 'bytes'>\n"
     ]
    }
   ],
   "source": [
    "sample_entry = b'\\xa7A\\xa6n'\n",
    "print(sample_entry)\n",
    "print('data type:', type(sample_entry))"
   ]
  },
  {
   "cell_type": "markdown",
   "id": "296c8895",
   "metadata": {
    "papermill": {
     "duration": 0.012632,
     "end_time": "2022-03-09T17:15:07.440801",
     "exception": false,
     "start_time": "2022-03-09T17:15:07.428169",
     "status": "completed"
    },
    "tags": []
   },
   "source": [
    "You notice that it doesn't use the standard UTF-8 encoding. \n",
    "\n",
    "Use the next code cell to create a variable `new_entry` that changes the encoding from `\"big5-tw\"` to `\"utf-8\"`.  `new_entry` should have the bytes datatype."
   ]
  },
  {
   "cell_type": "code",
   "execution_count": 4,
   "id": "cf4b4ac0",
   "metadata": {
    "execution": {
     "iopub.execute_input": "2022-03-09T17:15:07.474600Z",
     "iopub.status.busy": "2022-03-09T17:15:07.473732Z",
     "iopub.status.idle": "2022-03-09T17:15:07.477927Z",
     "shell.execute_reply": "2022-03-09T17:15:07.478362Z",
     "shell.execute_reply.started": "2022-03-09T16:56:56.738505Z"
    },
    "papermill": {
     "duration": 0.024848,
     "end_time": "2022-03-09T17:15:07.478516",
     "exception": false,
     "start_time": "2022-03-09T17:15:07.453668",
     "status": "completed"
    },
    "tags": []
   },
   "outputs": [
    {
     "data": {
      "application/javascript": [
       "parent.postMessage({\"jupyterEvent\": \"custom.exercise_interaction\", \"data\": {\"outcomeType\": 1, \"valueTowardsCompletion\": 0.3333333333333333, \"interactionType\": 1, \"questionType\": 1, \"questionId\": \"1_EncodingsIntro\", \"learnToolsVersion\": \"0.3.4\", \"failureMessage\": \"\", \"exceptionClass\": \"\", \"trace\": \"\"}}, \"*\")"
      ],
      "text/plain": [
       "<IPython.core.display.Javascript object>"
      ]
     },
     "metadata": {},
     "output_type": "display_data"
    },
    {
     "data": {
      "text/markdown": [
       "<span style=\"color:#33cc33\">Correct</span>"
      ],
      "text/plain": [
       "Correct"
      ]
     },
     "metadata": {},
     "output_type": "display_data"
    }
   ],
   "source": [
    "sample_entry = sample_entry.decode(\"big5-tw\")\n",
    "new_entry = sample_entry.encode(\"utf-8\")\n",
    "\n",
    "# Check your answer\n",
    "q1.check()"
   ]
  },
  {
   "cell_type": "code",
   "execution_count": 5,
   "id": "af8a1163",
   "metadata": {
    "execution": {
     "iopub.execute_input": "2022-03-09T17:15:07.509221Z",
     "iopub.status.busy": "2022-03-09T17:15:07.508681Z",
     "iopub.status.idle": "2022-03-09T17:15:07.511514Z",
     "shell.execute_reply": "2022-03-09T17:15:07.511976Z",
     "shell.execute_reply.started": "2022-03-09T16:55:20.330796Z"
    },
    "papermill": {
     "duration": 0.019674,
     "end_time": "2022-03-09T17:15:07.512128",
     "exception": false,
     "start_time": "2022-03-09T17:15:07.492454",
     "status": "completed"
    },
    "tags": []
   },
   "outputs": [],
   "source": [
    "# Lines below will give you a hint or solution code\n",
    "#q1.hint()\n",
    "#q1.solution()"
   ]
  },
  {
   "cell_type": "markdown",
   "id": "7773ef88",
   "metadata": {
    "papermill": {
     "duration": 0.015578,
     "end_time": "2022-03-09T17:15:07.541452",
     "exception": false,
     "start_time": "2022-03-09T17:15:07.525874",
     "status": "completed"
    },
    "tags": []
   },
   "source": [
    "# 2) Reading in files with encoding problems\n",
    "\n",
    "Use the code cell below to read in this file at path `\"../input/fatal-police-shootings-in-the-us/PoliceKillingsUS.csv\"`.  \n",
    "\n",
    "Figure out what the correct encoding should be and read in the file to a DataFrame `police_killings`."
   ]
  },
  {
   "cell_type": "code",
   "execution_count": 6,
   "id": "91228215",
   "metadata": {
    "execution": {
     "iopub.execute_input": "2022-03-09T17:15:07.574071Z",
     "iopub.status.busy": "2022-03-09T17:15:07.571961Z",
     "iopub.status.idle": "2022-03-09T17:15:09.486659Z",
     "shell.execute_reply": "2022-03-09T17:15:09.487081Z",
     "shell.execute_reply.started": "2022-03-09T17:08:32.382357Z"
    },
    "papermill": {
     "duration": 1.931962,
     "end_time": "2022-03-09T17:15:09.487235",
     "exception": false,
     "start_time": "2022-03-09T17:15:07.555273",
     "status": "completed"
    },
    "tags": []
   },
   "outputs": [
    {
     "name": "stdout",
     "output_type": "stream",
     "text": [
      "{'encoding': 'Windows-1252', 'confidence': 0.73, 'language': ''}\n"
     ]
    },
    {
     "data": {
      "application/javascript": [
       "parent.postMessage({\"jupyterEvent\": \"custom.exercise_interaction\", \"data\": {\"outcomeType\": 1, \"valueTowardsCompletion\": 0.3333333333333333, \"interactionType\": 1, \"questionType\": 1, \"questionId\": \"2_ReadIn\", \"learnToolsVersion\": \"0.3.4\", \"failureMessage\": \"\", \"exceptionClass\": \"\", \"trace\": \"\"}}, \"*\")"
      ],
      "text/plain": [
       "<IPython.core.display.Javascript object>"
      ]
     },
     "metadata": {},
     "output_type": "display_data"
    },
    {
     "data": {
      "text/markdown": [
       "<span style=\"color:#33cc33\">Correct</span>"
      ],
      "text/plain": [
       "Correct"
      ]
     },
     "metadata": {},
     "output_type": "display_data"
    }
   ],
   "source": [
    "# TODO: Load in the DataFrame correctly.\n",
    "with open(\"../input/fatal-police-shootings-in-the-us/PoliceKillingsUS.csv\", 'rb') as rawdata:\n",
    "    result = chardet.detect(rawdata.read())\n",
    "    \n",
    "print(result)\n",
    "\n",
    "police_killings = pd.read_csv(\"../input/fatal-police-shootings-in-the-us/PoliceKillingsUS.csv\", encoding='Windows-1252')\n",
    "\n",
    "# Check your answer\n",
    "q2.check()"
   ]
  },
  {
   "cell_type": "markdown",
   "id": "0e8526b0",
   "metadata": {
    "papermill": {
     "duration": 0.015388,
     "end_time": "2022-03-09T17:15:09.519404",
     "exception": false,
     "start_time": "2022-03-09T17:15:09.504016",
     "status": "completed"
    },
    "tags": []
   },
   "source": [
    "Feel free to use any additional code cells for supplemental work.  To get credit for finishing this question, you'll need to run `q2.check()` and get a result of **Correct**."
   ]
  },
  {
   "cell_type": "code",
   "execution_count": 7,
   "id": "99078f58",
   "metadata": {
    "execution": {
     "iopub.execute_input": "2022-03-09T17:15:09.554470Z",
     "iopub.status.busy": "2022-03-09T17:15:09.553432Z",
     "iopub.status.idle": "2022-03-09T17:15:09.555517Z",
     "shell.execute_reply": "2022-03-09T17:15:09.555911Z"
    },
    "papermill": {
     "duration": 0.021668,
     "end_time": "2022-03-09T17:15:09.556082",
     "exception": false,
     "start_time": "2022-03-09T17:15:09.534414",
     "status": "completed"
    },
    "tags": []
   },
   "outputs": [],
   "source": [
    "# (Optional) Use this code cell for any additional work."
   ]
  },
  {
   "cell_type": "code",
   "execution_count": 8,
   "id": "986228ec",
   "metadata": {
    "execution": {
     "iopub.execute_input": "2022-03-09T17:15:09.589989Z",
     "iopub.status.busy": "2022-03-09T17:15:09.589071Z",
     "iopub.status.idle": "2022-03-09T17:15:09.592446Z",
     "shell.execute_reply": "2022-03-09T17:15:09.592877Z"
    },
    "papermill": {
     "duration": 0.021814,
     "end_time": "2022-03-09T17:15:09.593044",
     "exception": false,
     "start_time": "2022-03-09T17:15:09.571230",
     "status": "completed"
    },
    "tags": []
   },
   "outputs": [],
   "source": [
    "# Lines below will give you a hint or solution code\n",
    "#q2.hint()\n",
    "#q2.solution()"
   ]
  },
  {
   "cell_type": "markdown",
   "id": "5a4e3087",
   "metadata": {
    "papermill": {
     "duration": 0.014823,
     "end_time": "2022-03-09T17:15:09.622987",
     "exception": false,
     "start_time": "2022-03-09T17:15:09.608164",
     "status": "completed"
    },
    "tags": []
   },
   "source": [
    "# 3) Saving your files with UTF-8 encoding\n",
    "\n",
    "Save a version of the police killings dataset to CSV with UTF-8 encoding.  Your answer will be marked correct after saving this file.  \n",
    "\n",
    "Note: When using the `to_csv()` method, supply only the name of the file (e.g., `\"my_file.csv\"`).  This saves the file at the filepath `\"/kaggle/working/my_file.csv\"`."
   ]
  },
  {
   "cell_type": "code",
   "execution_count": 9,
   "id": "c75f25a5",
   "metadata": {
    "execution": {
     "iopub.execute_input": "2022-03-09T17:15:09.656786Z",
     "iopub.status.busy": "2022-03-09T17:15:09.655895Z",
     "iopub.status.idle": "2022-03-09T17:15:09.684587Z",
     "shell.execute_reply": "2022-03-09T17:15:09.683922Z",
     "shell.execute_reply.started": "2022-03-09T17:11:06.835851Z"
    },
    "papermill": {
     "duration": 0.04656,
     "end_time": "2022-03-09T17:15:09.684718",
     "exception": false,
     "start_time": "2022-03-09T17:15:09.638158",
     "status": "completed"
    },
    "tags": []
   },
   "outputs": [
    {
     "data": {
      "application/javascript": [
       "parent.postMessage({\"jupyterEvent\": \"custom.exercise_interaction\", \"data\": {\"outcomeType\": 1, \"valueTowardsCompletion\": 0.3333333333333333, \"interactionType\": 1, \"questionType\": 2, \"questionId\": \"3_SaveCSV\", \"learnToolsVersion\": \"0.3.4\", \"failureMessage\": \"\", \"exceptionClass\": \"\", \"trace\": \"\"}}, \"*\")"
      ],
      "text/plain": [
       "<IPython.core.display.Javascript object>"
      ]
     },
     "metadata": {},
     "output_type": "display_data"
    },
    {
     "data": {
      "text/markdown": [
       "<span style=\"color:#33cc33\">Correct</span>"
      ],
      "text/plain": [
       "Correct"
      ]
     },
     "metadata": {},
     "output_type": "display_data"
    }
   ],
   "source": [
    "# TODO: Save the police killings dataset to CSV\n",
    "police_killings.to_csv(\"exercise4_police_killings.csv\")\n",
    "\n",
    "# Check your answer\n",
    "q3.check()"
   ]
  },
  {
   "cell_type": "code",
   "execution_count": 10,
   "id": "1b84dc8e",
   "metadata": {
    "execution": {
     "iopub.execute_input": "2022-03-09T17:15:09.720687Z",
     "iopub.status.busy": "2022-03-09T17:15:09.720119Z",
     "iopub.status.idle": "2022-03-09T17:15:09.721732Z",
     "shell.execute_reply": "2022-03-09T17:15:09.722201Z"
    },
    "papermill": {
     "duration": 0.021578,
     "end_time": "2022-03-09T17:15:09.722374",
     "exception": false,
     "start_time": "2022-03-09T17:15:09.700796",
     "status": "completed"
    },
    "tags": []
   },
   "outputs": [],
   "source": [
    "# Lines below will give you a hint or solution code\n",
    "#q3.hint()\n",
    "#q3.solution()"
   ]
  },
  {
   "cell_type": "markdown",
   "id": "956153c0",
   "metadata": {
    "papermill": {
     "duration": 0.01611,
     "end_time": "2022-03-09T17:15:09.754867",
     "exception": false,
     "start_time": "2022-03-09T17:15:09.738757",
     "status": "completed"
    },
    "tags": []
   },
   "source": [
    "# (Optional) More practice\n",
    "\n",
    "Check out [this dataset of files in different character encodings](https://www.kaggle.com/rtatman/character-encoding-examples). Can you read in all the files with their original encodings and them save them out as UTF-8 files?\n",
    "\n",
    "If you have a file that's in UTF-8 but has just a couple of weird-looking characters in it, you can try out the [ftfy module](https://ftfy.readthedocs.io/en/latest/#) and see if it helps. \n",
    "\n",
    "# Keep going\n",
    "\n",
    "In the final lesson, learn how to [**clean up inconsistent text entries**](https://www.kaggle.com/alexisbcook/inconsistent-data-entry) in your dataset."
   ]
  },
  {
   "cell_type": "markdown",
   "id": "7cbc4c13",
   "metadata": {
    "papermill": {
     "duration": 0.015721,
     "end_time": "2022-03-09T17:15:09.786831",
     "exception": false,
     "start_time": "2022-03-09T17:15:09.771110",
     "status": "completed"
    },
    "tags": []
   },
   "source": [
    "---\n",
    "\n",
    "\n",
    "\n",
    "\n",
    "*Have questions or comments? Visit the [course discussion forum](https://www.kaggle.com/learn/data-cleaning/discussion) to chat with other learners.*"
   ]
  }
 ],
 "metadata": {
  "kernelspec": {
   "display_name": "Python 3",
   "language": "python",
   "name": "python3"
  },
  "language_info": {
   "codemirror_mode": {
    "name": "ipython",
    "version": 3
   },
   "file_extension": ".py",
   "mimetype": "text/x-python",
   "name": "python",
   "nbconvert_exporter": "python",
   "pygments_lexer": "ipython3",
   "version": "3.7.12"
  },
  "papermill": {
   "default_parameters": {},
   "duration": 11.686642,
   "end_time": "2022-03-09T17:15:10.412026",
   "environment_variables": {},
   "exception": null,
   "input_path": "__notebook__.ipynb",
   "output_path": "__notebook__.ipynb",
   "parameters": {},
   "start_time": "2022-03-09T17:14:58.725384",
   "version": "2.3.3"
  }
 },
 "nbformat": 4,
 "nbformat_minor": 5
}
