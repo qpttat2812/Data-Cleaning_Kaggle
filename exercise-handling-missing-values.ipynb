{
 "cells": [
  {
   "cell_type": "markdown",
   "id": "4f3afa0f",
   "metadata": {
    "papermill": {
     "duration": 0.021813,
     "end_time": "2022-03-09T07:43:57.031210",
     "exception": false,
     "start_time": "2022-03-09T07:43:57.009397",
     "status": "completed"
    },
    "tags": []
   },
   "source": [
    "**This notebook is an exercise in the [Data Cleaning](https://www.kaggle.com/learn/data-cleaning) course.  You can reference the tutorial at [this link](https://www.kaggle.com/alexisbcook/handling-missing-values).**\n",
    "\n",
    "---\n"
   ]
  },
  {
   "cell_type": "markdown",
   "id": "a07e6b6b",
   "metadata": {
    "papermill": {
     "duration": 0.020188,
     "end_time": "2022-03-09T07:43:57.071861",
     "exception": false,
     "start_time": "2022-03-09T07:43:57.051673",
     "status": "completed"
    },
    "tags": []
   },
   "source": [
    "In this exercise, you'll apply what you learned in the **Handling missing values** tutorial.\n",
    "\n",
    "# Setup\n",
    "\n",
    "The questions below will give you feedback on your work. Run the following cell to set up the feedback system."
   ]
  },
  {
   "cell_type": "code",
   "execution_count": 1,
   "id": "68bf8a31",
   "metadata": {
    "execution": {
     "iopub.execute_input": "2022-03-09T07:43:57.114902Z",
     "iopub.status.busy": "2022-03-09T07:43:57.113807Z",
     "iopub.status.idle": "2022-03-09T07:44:00.826891Z",
     "shell.execute_reply": "2022-03-09T07:44:00.827369Z",
     "shell.execute_reply.started": "2022-03-09T07:01:36.688552Z"
    },
    "papermill": {
     "duration": 3.736251,
     "end_time": "2022-03-09T07:44:00.827669",
     "exception": false,
     "start_time": "2022-03-09T07:43:57.091418",
     "status": "completed"
    },
    "tags": []
   },
   "outputs": [
    {
     "name": "stderr",
     "output_type": "stream",
     "text": [
      "/opt/conda/lib/python3.7/site-packages/ipykernel_launcher.py:3: DtypeWarning: Columns (22,32) have mixed types.Specify dtype option on import or set low_memory=False.\n",
      "  This is separate from the ipykernel package so we can avoid doing imports until\n"
     ]
    },
    {
     "name": "stdout",
     "output_type": "stream",
     "text": [
      "Setup Complete\n"
     ]
    }
   ],
   "source": [
    "from learntools.core import binder\n",
    "binder.bind(globals())\n",
    "from learntools.data_cleaning.ex1 import *\n",
    "print(\"Setup Complete\")"
   ]
  },
  {
   "cell_type": "markdown",
   "id": "7c028981",
   "metadata": {
    "papermill": {
     "duration": 0.019919,
     "end_time": "2022-03-09T07:44:00.868404",
     "exception": false,
     "start_time": "2022-03-09T07:44:00.848485",
     "status": "completed"
    },
    "tags": []
   },
   "source": [
    "# 1) Take a first look at the data\n",
    "\n",
    "Run the next code cell to load in the libraries and dataset you'll use to complete the exercise."
   ]
  },
  {
   "cell_type": "code",
   "execution_count": 2,
   "id": "b9c2ce48",
   "metadata": {
    "execution": {
     "iopub.execute_input": "2022-03-09T07:44:00.912268Z",
     "iopub.status.busy": "2022-03-09T07:44:00.911635Z",
     "iopub.status.idle": "2022-03-09T07:44:02.590145Z",
     "shell.execute_reply": "2022-03-09T07:44:02.589498Z",
     "shell.execute_reply.started": "2022-03-09T07:02:03.378282Z"
    },
    "papermill": {
     "duration": 1.701642,
     "end_time": "2022-03-09T07:44:02.590292",
     "exception": false,
     "start_time": "2022-03-09T07:44:00.888650",
     "status": "completed"
    },
    "tags": []
   },
   "outputs": [
    {
     "name": "stderr",
     "output_type": "stream",
     "text": [
      "/opt/conda/lib/python3.7/site-packages/IPython/core/interactiveshell.py:3457: DtypeWarning: Columns (22,32) have mixed types.Specify dtype option on import or set low_memory=False.\n",
      "  exec(code_obj, self.user_global_ns, self.user_ns)\n"
     ]
    }
   ],
   "source": [
    "# modules we'll use\n",
    "import pandas as pd\n",
    "import numpy as np\n",
    "\n",
    "# read in all our data\n",
    "sf_permits = pd.read_csv(\"../input/building-permit-applications-data/Building_Permits.csv\")\n",
    "\n",
    "# set seed for reproducibility\n",
    "np.random.seed(0) "
   ]
  },
  {
   "cell_type": "markdown",
   "id": "fc3c7fbb",
   "metadata": {
    "papermill": {
     "duration": 0.020151,
     "end_time": "2022-03-09T07:44:02.631273",
     "exception": false,
     "start_time": "2022-03-09T07:44:02.611122",
     "status": "completed"
    },
    "tags": []
   },
   "source": [
    "Use the code cell below to print the first five rows of the `sf_permits` DataFrame."
   ]
  },
  {
   "cell_type": "code",
   "execution_count": 3,
   "id": "6e07b7e3",
   "metadata": {
    "execution": {
     "iopub.execute_input": "2022-03-09T07:44:02.680024Z",
     "iopub.status.busy": "2022-03-09T07:44:02.679309Z",
     "iopub.status.idle": "2022-03-09T07:44:02.711988Z",
     "shell.execute_reply": "2022-03-09T07:44:02.712508Z",
     "shell.execute_reply.started": "2022-03-09T07:02:08.529937Z"
    },
    "papermill": {
     "duration": 0.05995,
     "end_time": "2022-03-09T07:44:02.712685",
     "exception": false,
     "start_time": "2022-03-09T07:44:02.652735",
     "status": "completed"
    },
    "tags": []
   },
   "outputs": [
    {
     "data": {
      "text/html": [
       "<div>\n",
       "<style scoped>\n",
       "    .dataframe tbody tr th:only-of-type {\n",
       "        vertical-align: middle;\n",
       "    }\n",
       "\n",
       "    .dataframe tbody tr th {\n",
       "        vertical-align: top;\n",
       "    }\n",
       "\n",
       "    .dataframe thead th {\n",
       "        text-align: right;\n",
       "    }\n",
       "</style>\n",
       "<table border=\"1\" class=\"dataframe\">\n",
       "  <thead>\n",
       "    <tr style=\"text-align: right;\">\n",
       "      <th></th>\n",
       "      <th>Permit Number</th>\n",
       "      <th>Permit Type</th>\n",
       "      <th>Permit Type Definition</th>\n",
       "      <th>Permit Creation Date</th>\n",
       "      <th>Block</th>\n",
       "      <th>Lot</th>\n",
       "      <th>Street Number</th>\n",
       "      <th>Street Number Suffix</th>\n",
       "      <th>Street Name</th>\n",
       "      <th>Street Suffix</th>\n",
       "      <th>...</th>\n",
       "      <th>Existing Construction Type</th>\n",
       "      <th>Existing Construction Type Description</th>\n",
       "      <th>Proposed Construction Type</th>\n",
       "      <th>Proposed Construction Type Description</th>\n",
       "      <th>Site Permit</th>\n",
       "      <th>Supervisor District</th>\n",
       "      <th>Neighborhoods - Analysis Boundaries</th>\n",
       "      <th>Zipcode</th>\n",
       "      <th>Location</th>\n",
       "      <th>Record ID</th>\n",
       "    </tr>\n",
       "  </thead>\n",
       "  <tbody>\n",
       "    <tr>\n",
       "      <th>0</th>\n",
       "      <td>201505065519</td>\n",
       "      <td>4</td>\n",
       "      <td>sign - erect</td>\n",
       "      <td>05/06/2015</td>\n",
       "      <td>0326</td>\n",
       "      <td>023</td>\n",
       "      <td>140</td>\n",
       "      <td>NaN</td>\n",
       "      <td>Ellis</td>\n",
       "      <td>St</td>\n",
       "      <td>...</td>\n",
       "      <td>3.0</td>\n",
       "      <td>constr type 3</td>\n",
       "      <td>NaN</td>\n",
       "      <td>NaN</td>\n",
       "      <td>NaN</td>\n",
       "      <td>3.0</td>\n",
       "      <td>Tenderloin</td>\n",
       "      <td>94102.0</td>\n",
       "      <td>(37.785719256680785, -122.40852313194863)</td>\n",
       "      <td>1380611233945</td>\n",
       "    </tr>\n",
       "    <tr>\n",
       "      <th>1</th>\n",
       "      <td>201604195146</td>\n",
       "      <td>4</td>\n",
       "      <td>sign - erect</td>\n",
       "      <td>04/19/2016</td>\n",
       "      <td>0306</td>\n",
       "      <td>007</td>\n",
       "      <td>440</td>\n",
       "      <td>NaN</td>\n",
       "      <td>Geary</td>\n",
       "      <td>St</td>\n",
       "      <td>...</td>\n",
       "      <td>3.0</td>\n",
       "      <td>constr type 3</td>\n",
       "      <td>NaN</td>\n",
       "      <td>NaN</td>\n",
       "      <td>NaN</td>\n",
       "      <td>3.0</td>\n",
       "      <td>Tenderloin</td>\n",
       "      <td>94102.0</td>\n",
       "      <td>(37.78733980600732, -122.41063199757738)</td>\n",
       "      <td>1420164406718</td>\n",
       "    </tr>\n",
       "    <tr>\n",
       "      <th>2</th>\n",
       "      <td>201605278609</td>\n",
       "      <td>3</td>\n",
       "      <td>additions alterations or repairs</td>\n",
       "      <td>05/27/2016</td>\n",
       "      <td>0595</td>\n",
       "      <td>203</td>\n",
       "      <td>1647</td>\n",
       "      <td>NaN</td>\n",
       "      <td>Pacific</td>\n",
       "      <td>Av</td>\n",
       "      <td>...</td>\n",
       "      <td>1.0</td>\n",
       "      <td>constr type 1</td>\n",
       "      <td>1.0</td>\n",
       "      <td>constr type 1</td>\n",
       "      <td>NaN</td>\n",
       "      <td>3.0</td>\n",
       "      <td>Russian Hill</td>\n",
       "      <td>94109.0</td>\n",
       "      <td>(37.7946573324287, -122.42232562979227)</td>\n",
       "      <td>1424856504716</td>\n",
       "    </tr>\n",
       "    <tr>\n",
       "      <th>3</th>\n",
       "      <td>201611072166</td>\n",
       "      <td>8</td>\n",
       "      <td>otc alterations permit</td>\n",
       "      <td>11/07/2016</td>\n",
       "      <td>0156</td>\n",
       "      <td>011</td>\n",
       "      <td>1230</td>\n",
       "      <td>NaN</td>\n",
       "      <td>Pacific</td>\n",
       "      <td>Av</td>\n",
       "      <td>...</td>\n",
       "      <td>5.0</td>\n",
       "      <td>wood frame (5)</td>\n",
       "      <td>5.0</td>\n",
       "      <td>wood frame (5)</td>\n",
       "      <td>NaN</td>\n",
       "      <td>3.0</td>\n",
       "      <td>Nob Hill</td>\n",
       "      <td>94109.0</td>\n",
       "      <td>(37.79595867909168, -122.41557405519474)</td>\n",
       "      <td>1443574295566</td>\n",
       "    </tr>\n",
       "    <tr>\n",
       "      <th>4</th>\n",
       "      <td>201611283529</td>\n",
       "      <td>6</td>\n",
       "      <td>demolitions</td>\n",
       "      <td>11/28/2016</td>\n",
       "      <td>0342</td>\n",
       "      <td>001</td>\n",
       "      <td>950</td>\n",
       "      <td>NaN</td>\n",
       "      <td>Market</td>\n",
       "      <td>St</td>\n",
       "      <td>...</td>\n",
       "      <td>3.0</td>\n",
       "      <td>constr type 3</td>\n",
       "      <td>NaN</td>\n",
       "      <td>NaN</td>\n",
       "      <td>NaN</td>\n",
       "      <td>6.0</td>\n",
       "      <td>Tenderloin</td>\n",
       "      <td>94102.0</td>\n",
       "      <td>(37.78315261897309, -122.40950883997789)</td>\n",
       "      <td>144548169992</td>\n",
       "    </tr>\n",
       "  </tbody>\n",
       "</table>\n",
       "<p>5 rows × 43 columns</p>\n",
       "</div>"
      ],
      "text/plain": [
       "  Permit Number  Permit Type            Permit Type Definition  \\\n",
       "0  201505065519            4                      sign - erect   \n",
       "1  201604195146            4                      sign - erect   \n",
       "2  201605278609            3  additions alterations or repairs   \n",
       "3  201611072166            8            otc alterations permit   \n",
       "4  201611283529            6                       demolitions   \n",
       "\n",
       "  Permit Creation Date Block  Lot  Street Number Street Number Suffix  \\\n",
       "0           05/06/2015  0326  023            140                  NaN   \n",
       "1           04/19/2016  0306  007            440                  NaN   \n",
       "2           05/27/2016  0595  203           1647                  NaN   \n",
       "3           11/07/2016  0156  011           1230                  NaN   \n",
       "4           11/28/2016  0342  001            950                  NaN   \n",
       "\n",
       "  Street Name Street Suffix  ...  Existing Construction Type  \\\n",
       "0       Ellis            St  ...                         3.0   \n",
       "1       Geary            St  ...                         3.0   \n",
       "2     Pacific            Av  ...                         1.0   \n",
       "3     Pacific            Av  ...                         5.0   \n",
       "4      Market            St  ...                         3.0   \n",
       "\n",
       "  Existing Construction Type Description Proposed Construction Type  \\\n",
       "0                          constr type 3                        NaN   \n",
       "1                          constr type 3                        NaN   \n",
       "2                          constr type 1                        1.0   \n",
       "3                         wood frame (5)                        5.0   \n",
       "4                          constr type 3                        NaN   \n",
       "\n",
       "  Proposed Construction Type Description Site Permit Supervisor District  \\\n",
       "0                                    NaN         NaN                 3.0   \n",
       "1                                    NaN         NaN                 3.0   \n",
       "2                          constr type 1         NaN                 3.0   \n",
       "3                         wood frame (5)         NaN                 3.0   \n",
       "4                                    NaN         NaN                 6.0   \n",
       "\n",
       "  Neighborhoods - Analysis Boundaries  Zipcode  \\\n",
       "0                          Tenderloin  94102.0   \n",
       "1                          Tenderloin  94102.0   \n",
       "2                        Russian Hill  94109.0   \n",
       "3                            Nob Hill  94109.0   \n",
       "4                          Tenderloin  94102.0   \n",
       "\n",
       "                                    Location      Record ID  \n",
       "0  (37.785719256680785, -122.40852313194863)  1380611233945  \n",
       "1   (37.78733980600732, -122.41063199757738)  1420164406718  \n",
       "2    (37.7946573324287, -122.42232562979227)  1424856504716  \n",
       "3   (37.79595867909168, -122.41557405519474)  1443574295566  \n",
       "4   (37.78315261897309, -122.40950883997789)   144548169992  \n",
       "\n",
       "[5 rows x 43 columns]"
      ]
     },
     "execution_count": 3,
     "metadata": {},
     "output_type": "execute_result"
    }
   ],
   "source": [
    "# TODO: Your code here!\n",
    "sf_permits.head()"
   ]
  },
  {
   "cell_type": "markdown",
   "id": "69755ca8",
   "metadata": {
    "papermill": {
     "duration": 0.021589,
     "end_time": "2022-03-09T07:44:02.755796",
     "exception": false,
     "start_time": "2022-03-09T07:44:02.734207",
     "status": "completed"
    },
    "tags": []
   },
   "source": [
    "Does the dataset have any missing values?  Once you have an answer, run the code cell below to get credit for your work."
   ]
  },
  {
   "cell_type": "code",
   "execution_count": 4,
   "id": "e2217237",
   "metadata": {
    "execution": {
     "iopub.execute_input": "2022-03-09T07:44:02.802339Z",
     "iopub.status.busy": "2022-03-09T07:44:02.801665Z",
     "iopub.status.idle": "2022-03-09T07:44:02.808037Z",
     "shell.execute_reply": "2022-03-09T07:44:02.808512Z",
     "shell.execute_reply.started": "2022-03-09T04:44:23.794552Z"
    },
    "papermill": {
     "duration": 0.031315,
     "end_time": "2022-03-09T07:44:02.808675",
     "exception": false,
     "start_time": "2022-03-09T07:44:02.777360",
     "status": "completed"
    },
    "tags": []
   },
   "outputs": [
    {
     "data": {
      "application/javascript": [
       "parent.postMessage({\"jupyterEvent\": \"custom.exercise_interaction\", \"data\": {\"outcomeType\": 1, \"valueTowardsCompletion\": 0.16666666666666666, \"interactionType\": 1, \"questionType\": 4, \"questionId\": \"1_TakeFirstLook\", \"learnToolsVersion\": \"0.3.4\", \"failureMessage\": \"\", \"exceptionClass\": \"\", \"trace\": \"\"}}, \"*\")"
      ],
      "text/plain": [
       "<IPython.core.display.Javascript object>"
      ]
     },
     "metadata": {},
     "output_type": "display_data"
    },
    {
     "data": {
      "text/markdown": [
       "<span style=\"color:#33cc33\">Correct:</span> \n",
       "\n",
       "The first five rows of the data does show that several columns have missing values.  You can see this in the \"Street Number Suffix\", \"Proposed Construction Type\" and \"Site Permit\" columns, among others."
      ],
      "text/plain": [
       "Correct: \n",
       "\n",
       "The first five rows of the data does show that several columns have missing values.  You can see this in the \"Street Number Suffix\", \"Proposed Construction Type\" and \"Site Permit\" columns, among others."
      ]
     },
     "metadata": {},
     "output_type": "display_data"
    }
   ],
   "source": [
    "# Check your answer (Run this code cell to receive credit!)\n",
    "q1.check()"
   ]
  },
  {
   "cell_type": "code",
   "execution_count": 5,
   "id": "2b1299e7",
   "metadata": {
    "execution": {
     "iopub.execute_input": "2022-03-09T07:44:02.856370Z",
     "iopub.status.busy": "2022-03-09T07:44:02.855695Z",
     "iopub.status.idle": "2022-03-09T07:44:02.858327Z",
     "shell.execute_reply": "2022-03-09T07:44:02.858829Z"
    },
    "papermill": {
     "duration": 0.028255,
     "end_time": "2022-03-09T07:44:02.859033",
     "exception": false,
     "start_time": "2022-03-09T07:44:02.830778",
     "status": "completed"
    },
    "tags": []
   },
   "outputs": [],
   "source": [
    "# Line below will give you a hint\n",
    "#q1.hint()"
   ]
  },
  {
   "cell_type": "markdown",
   "id": "617e315a",
   "metadata": {
    "papermill": {
     "duration": 0.021579,
     "end_time": "2022-03-09T07:44:02.902704",
     "exception": false,
     "start_time": "2022-03-09T07:44:02.881125",
     "status": "completed"
    },
    "tags": []
   },
   "source": [
    "# 2) How many missing data points do we have?\n",
    "\n",
    "What percentage of the values in the dataset are missing?  Your answer should be a number between 0 and 100.  (If 1/4 of the values in the dataset are missing, the answer is 25.)"
   ]
  },
  {
   "cell_type": "code",
   "execution_count": 6,
   "id": "1e98dee2",
   "metadata": {
    "execution": {
     "iopub.execute_input": "2022-03-09T07:44:02.951521Z",
     "iopub.status.busy": "2022-03-09T07:44:02.950829Z",
     "iopub.status.idle": "2022-03-09T07:44:02.955865Z",
     "shell.execute_reply": "2022-03-09T07:44:02.956339Z",
     "shell.execute_reply.started": "2022-03-09T04:44:26.903833Z"
    },
    "papermill": {
     "duration": 0.031333,
     "end_time": "2022-03-09T07:44:02.956519",
     "exception": false,
     "start_time": "2022-03-09T07:44:02.925186",
     "status": "completed"
    },
    "tags": []
   },
   "outputs": [
    {
     "data": {
      "text/plain": [
       "(198900, 43)"
      ]
     },
     "execution_count": 6,
     "metadata": {},
     "output_type": "execute_result"
    }
   ],
   "source": [
    "sf_permits.shape"
   ]
  },
  {
   "cell_type": "code",
   "execution_count": 7,
   "id": "3563287e",
   "metadata": {
    "execution": {
     "iopub.execute_input": "2022-03-09T07:44:03.005064Z",
     "iopub.status.busy": "2022-03-09T07:44:03.004292Z",
     "iopub.status.idle": "2022-03-09T07:44:03.236432Z",
     "shell.execute_reply": "2022-03-09T07:44:03.235874Z",
     "shell.execute_reply.started": "2022-03-09T07:02:13.683906Z"
    },
    "papermill": {
     "duration": 0.257542,
     "end_time": "2022-03-09T07:44:03.236583",
     "exception": false,
     "start_time": "2022-03-09T07:44:02.979041",
     "status": "completed"
    },
    "tags": []
   },
   "outputs": [
    {
     "name": "stdout",
     "output_type": "stream",
     "text": [
      "Permit Number                                  0\n",
      "Permit Type                                    0\n",
      "Permit Type Definition                         0\n",
      "Permit Creation Date                           0\n",
      "Block                                          0\n",
      "Lot                                            0\n",
      "Street Number                                  0\n",
      "Street Number Suffix                      196684\n",
      "Street Name                                    0\n",
      "Street Suffix                               2768\n",
      "Unit                                      169421\n",
      "Unit Suffix                               196939\n",
      "Description                                  290\n",
      "Current Status                                 0\n",
      "Current Status Date                            0\n",
      "Filed Date                                     0\n",
      "Issued Date                                14940\n",
      "Completed Date                            101709\n",
      "First Construction Document Date           14946\n",
      "Structural Notification                   191978\n",
      "Number of Existing Stories                 42784\n",
      "Number of Proposed Stories                 42868\n",
      "Voluntary Soft-Story Retrofit             198865\n",
      "Fire Only Permit                          180073\n",
      "Permit Expiration Date                     51880\n",
      "Estimated Cost                             38066\n",
      "Revised Cost                                6066\n",
      "Existing Use                               41114\n",
      "Existing Units                             51538\n",
      "Proposed Use                               42439\n",
      "Proposed Units                             50911\n",
      "Plansets                                   37309\n",
      "TIDF Compliance                           198898\n",
      "Existing Construction Type                 43366\n",
      "Existing Construction Type Description     43366\n",
      "Proposed Construction Type                 43162\n",
      "Proposed Construction Type Description     43162\n",
      "Site Permit                               193541\n",
      "Supervisor District                         1717\n",
      "Neighborhoods - Analysis Boundaries         1725\n",
      "Zipcode                                     1716\n",
      "Location                                    1700\n",
      "Record ID                                      0\n",
      "dtype: int64\n"
     ]
    },
    {
     "data": {
      "text/plain": [
       "2245941"
      ]
     },
     "execution_count": 7,
     "metadata": {},
     "output_type": "execute_result"
    }
   ],
   "source": [
    "#calculate total values\n",
    "total_cells = np.product(sf_permits.shape)\n",
    "\n",
    "#calculate total missing values\n",
    "missing_values = sf_permits.isna().sum()\n",
    "print(missing_values)\n",
    "total_missing_values = missing_values.sum()\n",
    "total_missing_values"
   ]
  },
  {
   "cell_type": "code",
   "execution_count": 8,
   "id": "8efa39f4",
   "metadata": {
    "execution": {
     "iopub.execute_input": "2022-03-09T07:44:03.289745Z",
     "iopub.status.busy": "2022-03-09T07:44:03.288604Z",
     "iopub.status.idle": "2022-03-09T07:44:03.293074Z",
     "shell.execute_reply": "2022-03-09T07:44:03.292401Z",
     "shell.execute_reply.started": "2022-03-09T07:02:18.397284Z"
    },
    "papermill": {
     "duration": 0.033178,
     "end_time": "2022-03-09T07:44:03.293220",
     "exception": false,
     "start_time": "2022-03-09T07:44:03.260042",
     "status": "completed"
    },
    "tags": []
   },
   "outputs": [
    {
     "data": {
      "text/plain": [
       "26.26002315058403"
      ]
     },
     "execution_count": 8,
     "metadata": {},
     "output_type": "execute_result"
    }
   ],
   "source": [
    "# TODO: Your code here!\n",
    "percent_missing = (total_missing_values/total_cells) * 100\n",
    "percent_missing"
   ]
  },
  {
   "cell_type": "code",
   "execution_count": 9,
   "id": "91bd65ce",
   "metadata": {
    "execution": {
     "iopub.execute_input": "2022-03-09T07:44:03.343739Z",
     "iopub.status.busy": "2022-03-09T07:44:03.342767Z",
     "iopub.status.idle": "2022-03-09T07:44:03.349415Z",
     "shell.execute_reply": "2022-03-09T07:44:03.349817Z",
     "shell.execute_reply.started": "2022-03-09T04:44:33.8892Z"
    },
    "papermill": {
     "duration": 0.033752,
     "end_time": "2022-03-09T07:44:03.350187",
     "exception": false,
     "start_time": "2022-03-09T07:44:03.316435",
     "status": "completed"
    },
    "tags": []
   },
   "outputs": [
    {
     "data": {
      "application/javascript": [
       "parent.postMessage({\"jupyterEvent\": \"custom.exercise_interaction\", \"data\": {\"outcomeType\": 1, \"valueTowardsCompletion\": 0.16666666666666666, \"interactionType\": 1, \"questionType\": 1, \"questionId\": \"2_PercentMissingValues\", \"learnToolsVersion\": \"0.3.4\", \"failureMessage\": \"\", \"exceptionClass\": \"\", \"trace\": \"\"}}, \"*\")"
      ],
      "text/plain": [
       "<IPython.core.display.Javascript object>"
      ]
     },
     "metadata": {},
     "output_type": "display_data"
    },
    {
     "data": {
      "text/markdown": [
       "<span style=\"color:#33cc33\">Correct</span>"
      ],
      "text/plain": [
       "Correct"
      ]
     },
     "metadata": {},
     "output_type": "display_data"
    }
   ],
   "source": [
    "# Check your answer\n",
    "q2.check()"
   ]
  },
  {
   "cell_type": "code",
   "execution_count": 10,
   "id": "31c24c0f",
   "metadata": {
    "execution": {
     "iopub.execute_input": "2022-03-09T07:44:03.404058Z",
     "iopub.status.busy": "2022-03-09T07:44:03.403373Z",
     "iopub.status.idle": "2022-03-09T07:44:03.406041Z",
     "shell.execute_reply": "2022-03-09T07:44:03.406502Z"
    },
    "papermill": {
     "duration": 0.032177,
     "end_time": "2022-03-09T07:44:03.406666",
     "exception": false,
     "start_time": "2022-03-09T07:44:03.374489",
     "status": "completed"
    },
    "tags": []
   },
   "outputs": [],
   "source": [
    "# Lines below will give you a hint or solution code\n",
    "#q2.hint()\n",
    "#q2.solution()"
   ]
  },
  {
   "cell_type": "markdown",
   "id": "b65a32f3",
   "metadata": {
    "papermill": {
     "duration": 0.0237,
     "end_time": "2022-03-09T07:44:03.454789",
     "exception": false,
     "start_time": "2022-03-09T07:44:03.431089",
     "status": "completed"
    },
    "tags": []
   },
   "source": [
    "# 3) Figure out why the data is missing\n",
    "\n",
    "Look at the columns **\"Street Number Suffix\"** and **\"Zipcode\"** from the [San Francisco Building Permits dataset](https://www.kaggle.com/aparnashastry/building-permit-applications-data). Both of these contain missing values. \n",
    "- Which, if either, are missing because they don't exist? \n",
    "- Which, if either, are missing because they weren't recorded?  \n",
    "\n",
    "Once you have an answer, run the code cell below."
   ]
  },
  {
   "cell_type": "code",
   "execution_count": 11,
   "id": "f8005619",
   "metadata": {
    "execution": {
     "iopub.execute_input": "2022-03-09T07:44:03.507287Z",
     "iopub.status.busy": "2022-03-09T07:44:03.506606Z",
     "iopub.status.idle": "2022-03-09T07:44:03.511722Z",
     "shell.execute_reply": "2022-03-09T07:44:03.512285Z",
     "shell.execute_reply.started": "2022-03-09T04:44:37.148173Z"
    },
    "papermill": {
     "duration": 0.033225,
     "end_time": "2022-03-09T07:44:03.512484",
     "exception": false,
     "start_time": "2022-03-09T07:44:03.479259",
     "status": "completed"
    },
    "tags": []
   },
   "outputs": [
    {
     "data": {
      "application/javascript": [
       "parent.postMessage({\"jupyterEvent\": \"custom.exercise_interaction\", \"data\": {\"outcomeType\": 1, \"valueTowardsCompletion\": 0.16666666666666666, \"interactionType\": 1, \"questionType\": 4, \"questionId\": \"3_WhyDataMissing\", \"learnToolsVersion\": \"0.3.4\", \"failureMessage\": \"\", \"exceptionClass\": \"\", \"trace\": \"\"}}, \"*\")"
      ],
      "text/plain": [
       "<IPython.core.display.Javascript object>"
      ]
     },
     "metadata": {},
     "output_type": "display_data"
    },
    {
     "data": {
      "text/markdown": [
       "<span style=\"color:#33cc33\">Correct:</span> \n",
       "\n",
       "If a value in the \"Street Number Suffix\" column is missing, it is likely because it does not exist. If a value in the \"Zipcode\" column is missing, it was not recorded."
      ],
      "text/plain": [
       "Correct: \n",
       "\n",
       "If a value in the \"Street Number Suffix\" column is missing, it is likely because it does not exist. If a value in the \"Zipcode\" column is missing, it was not recorded."
      ]
     },
     "metadata": {},
     "output_type": "display_data"
    }
   ],
   "source": [
    "# Check your answer (Run this code cell to receive credit!)\n",
    "#The data of Street Number Suffix is missing because it's not exist and Zipcode is missing because they're not recorded\n",
    "q3.check()"
   ]
  },
  {
   "cell_type": "code",
   "execution_count": 12,
   "id": "2e4db65c",
   "metadata": {
    "execution": {
     "iopub.execute_input": "2022-03-09T07:44:03.567174Z",
     "iopub.status.busy": "2022-03-09T07:44:03.566429Z",
     "iopub.status.idle": "2022-03-09T07:44:03.569638Z",
     "shell.execute_reply": "2022-03-09T07:44:03.569181Z",
     "shell.execute_reply.started": "2022-03-09T04:14:20.010777Z"
    },
    "papermill": {
     "duration": 0.031876,
     "end_time": "2022-03-09T07:44:03.569784",
     "exception": false,
     "start_time": "2022-03-09T07:44:03.537908",
     "status": "completed"
    },
    "tags": []
   },
   "outputs": [],
   "source": [
    "# Line below will give you a hint\n",
    "#q3.hint()"
   ]
  },
  {
   "cell_type": "markdown",
   "id": "7ce53151",
   "metadata": {
    "papermill": {
     "duration": 0.026523,
     "end_time": "2022-03-09T07:44:03.622495",
     "exception": false,
     "start_time": "2022-03-09T07:44:03.595972",
     "status": "completed"
    },
    "tags": []
   },
   "source": [
    "# 4) Drop missing values: rows\n",
    "\n",
    "If you removed all of the rows of `sf_permits` with missing values, how many rows are left?\n",
    "\n",
    "**Note**: Do not change the value of `sf_permits` when checking this.  "
   ]
  },
  {
   "cell_type": "code",
   "execution_count": 13,
   "id": "7704ddae",
   "metadata": {
    "execution": {
     "iopub.execute_input": "2022-03-09T07:44:03.678347Z",
     "iopub.status.busy": "2022-03-09T07:44:03.677646Z",
     "iopub.status.idle": "2022-03-09T07:44:03.915745Z",
     "shell.execute_reply": "2022-03-09T07:44:03.915121Z",
     "shell.execute_reply.started": "2022-03-09T04:44:44.249708Z"
    },
    "papermill": {
     "duration": 0.267113,
     "end_time": "2022-03-09T07:44:03.915879",
     "exception": false,
     "start_time": "2022-03-09T07:44:03.648766",
     "status": "completed"
    },
    "tags": []
   },
   "outputs": [
    {
     "data": {
      "text/html": [
       "<div>\n",
       "<style scoped>\n",
       "    .dataframe tbody tr th:only-of-type {\n",
       "        vertical-align: middle;\n",
       "    }\n",
       "\n",
       "    .dataframe tbody tr th {\n",
       "        vertical-align: top;\n",
       "    }\n",
       "\n",
       "    .dataframe thead th {\n",
       "        text-align: right;\n",
       "    }\n",
       "</style>\n",
       "<table border=\"1\" class=\"dataframe\">\n",
       "  <thead>\n",
       "    <tr style=\"text-align: right;\">\n",
       "      <th></th>\n",
       "      <th>Permit Number</th>\n",
       "      <th>Permit Type</th>\n",
       "      <th>Permit Type Definition</th>\n",
       "      <th>Permit Creation Date</th>\n",
       "      <th>Block</th>\n",
       "      <th>Lot</th>\n",
       "      <th>Street Number</th>\n",
       "      <th>Street Number Suffix</th>\n",
       "      <th>Street Name</th>\n",
       "      <th>Street Suffix</th>\n",
       "      <th>...</th>\n",
       "      <th>Existing Construction Type</th>\n",
       "      <th>Existing Construction Type Description</th>\n",
       "      <th>Proposed Construction Type</th>\n",
       "      <th>Proposed Construction Type Description</th>\n",
       "      <th>Site Permit</th>\n",
       "      <th>Supervisor District</th>\n",
       "      <th>Neighborhoods - Analysis Boundaries</th>\n",
       "      <th>Zipcode</th>\n",
       "      <th>Location</th>\n",
       "      <th>Record ID</th>\n",
       "    </tr>\n",
       "  </thead>\n",
       "  <tbody>\n",
       "  </tbody>\n",
       "</table>\n",
       "<p>0 rows × 43 columns</p>\n",
       "</div>"
      ],
      "text/plain": [
       "Empty DataFrame\n",
       "Columns: [Permit Number, Permit Type, Permit Type Definition, Permit Creation Date, Block, Lot, Street Number, Street Number Suffix, Street Name, Street Suffix, Unit, Unit Suffix, Description, Current Status, Current Status Date, Filed Date, Issued Date, Completed Date, First Construction Document Date, Structural Notification, Number of Existing Stories, Number of Proposed Stories, Voluntary Soft-Story Retrofit, Fire Only Permit, Permit Expiration Date, Estimated Cost, Revised Cost, Existing Use, Existing Units, Proposed Use, Proposed Units, Plansets, TIDF Compliance, Existing Construction Type, Existing Construction Type Description, Proposed Construction Type, Proposed Construction Type Description, Site Permit, Supervisor District, Neighborhoods - Analysis Boundaries, Zipcode, Location, Record ID]\n",
       "Index: []\n",
       "\n",
       "[0 rows x 43 columns]"
      ]
     },
     "execution_count": 13,
     "metadata": {},
     "output_type": "execute_result"
    }
   ],
   "source": [
    "# TODO: Your code here!\n",
    "sf_permits.dropna()"
   ]
  },
  {
   "cell_type": "markdown",
   "id": "12f1a138",
   "metadata": {
    "papermill": {
     "duration": 0.026371,
     "end_time": "2022-03-09T07:44:03.968339",
     "exception": false,
     "start_time": "2022-03-09T07:44:03.941968",
     "status": "completed"
    },
    "tags": []
   },
   "source": [
    "Once you have an answer, run the code cell below."
   ]
  },
  {
   "cell_type": "code",
   "execution_count": 14,
   "id": "d7d9d474",
   "metadata": {
    "execution": {
     "iopub.execute_input": "2022-03-09T07:44:04.026221Z",
     "iopub.status.busy": "2022-03-09T07:44:04.025545Z",
     "iopub.status.idle": "2022-03-09T07:44:04.029688Z",
     "shell.execute_reply": "2022-03-09T07:44:04.030189Z",
     "shell.execute_reply.started": "2022-03-09T04:44:47.714535Z"
    },
    "papermill": {
     "duration": 0.035603,
     "end_time": "2022-03-09T07:44:04.030369",
     "exception": false,
     "start_time": "2022-03-09T07:44:03.994766",
     "status": "completed"
    },
    "tags": []
   },
   "outputs": [
    {
     "data": {
      "application/javascript": [
       "parent.postMessage({\"jupyterEvent\": \"custom.exercise_interaction\", \"data\": {\"outcomeType\": 1, \"valueTowardsCompletion\": 0.16666666666666666, \"interactionType\": 1, \"questionType\": 4, \"questionId\": \"4_DropMissingRows\", \"learnToolsVersion\": \"0.3.4\", \"failureMessage\": \"\", \"exceptionClass\": \"\", \"trace\": \"\"}}, \"*\")"
      ],
      "text/plain": [
       "<IPython.core.display.Javascript object>"
      ]
     },
     "metadata": {},
     "output_type": "display_data"
    },
    {
     "data": {
      "text/markdown": [
       "<span style=\"color:#33cc33\">Correct:</span> \n",
       "\n",
       "There are no rows remaining in the dataset!"
      ],
      "text/plain": [
       "Correct: \n",
       "\n",
       "There are no rows remaining in the dataset!"
      ]
     },
     "metadata": {},
     "output_type": "display_data"
    }
   ],
   "source": [
    "# Check your answer (Run this code cell to receive credit!)\n",
    "q4.check()"
   ]
  },
  {
   "cell_type": "code",
   "execution_count": 15,
   "id": "6563c4ab",
   "metadata": {
    "execution": {
     "iopub.execute_input": "2022-03-09T07:44:04.088195Z",
     "iopub.status.busy": "2022-03-09T07:44:04.087334Z",
     "iopub.status.idle": "2022-03-09T07:44:04.090356Z",
     "shell.execute_reply": "2022-03-09T07:44:04.090753Z"
    },
    "papermill": {
     "duration": 0.033278,
     "end_time": "2022-03-09T07:44:04.090928",
     "exception": false,
     "start_time": "2022-03-09T07:44:04.057650",
     "status": "completed"
    },
    "tags": []
   },
   "outputs": [],
   "source": [
    "# Line below will give you a hint\n",
    "#q4.hint()"
   ]
  },
  {
   "cell_type": "markdown",
   "id": "1a171963",
   "metadata": {
    "papermill": {
     "duration": 0.026511,
     "end_time": "2022-03-09T07:44:04.144088",
     "exception": false,
     "start_time": "2022-03-09T07:44:04.117577",
     "status": "completed"
    },
    "tags": []
   },
   "source": [
    "# 5) Drop missing values: columns\n",
    "\n",
    "Now try removing all the columns with empty values.  \n",
    "- Create a new DataFrame called `sf_permits_with_na_dropped` that has all of the columns with empty values removed.  \n",
    "- How many columns were removed from the original `sf_permits` DataFrame? Use this number to set the value of the `dropped_columns` variable below."
   ]
  },
  {
   "cell_type": "code",
   "execution_count": 16,
   "id": "14d47a42",
   "metadata": {
    "execution": {
     "iopub.execute_input": "2022-03-09T07:44:04.200437Z",
     "iopub.status.busy": "2022-03-09T07:44:04.199513Z",
     "iopub.status.idle": "2022-03-09T07:44:04.444426Z",
     "shell.execute_reply": "2022-03-09T07:44:04.443834Z",
     "shell.execute_reply.started": "2022-03-09T07:02:24.701177Z"
    },
    "papermill": {
     "duration": 0.274037,
     "end_time": "2022-03-09T07:44:04.444562",
     "exception": false,
     "start_time": "2022-03-09T07:44:04.170525",
     "status": "completed"
    },
    "tags": []
   },
   "outputs": [
    {
     "name": "stdout",
     "output_type": "stream",
     "text": [
      "Columns in original dataset: 43 \n",
      "\n",
      "Columns with na's dropped: 12\n"
     ]
    },
    {
     "data": {
      "application/javascript": [
       "parent.postMessage({\"jupyterEvent\": \"custom.exercise_interaction\", \"data\": {\"outcomeType\": 1, \"valueTowardsCompletion\": 0.16666666666666666, \"interactionType\": 1, \"questionType\": 1, \"questionId\": \"5_DropMissingCols\", \"learnToolsVersion\": \"0.3.4\", \"failureMessage\": \"\", \"exceptionClass\": \"\", \"trace\": \"\"}}, \"*\")"
      ],
      "text/plain": [
       "<IPython.core.display.Javascript object>"
      ]
     },
     "metadata": {},
     "output_type": "display_data"
    },
    {
     "data": {
      "text/markdown": [
       "<span style=\"color:#33cc33\">Correct</span>"
      ],
      "text/plain": [
       "Correct"
      ]
     },
     "metadata": {},
     "output_type": "display_data"
    }
   ],
   "source": [
    "# TODO: Your code here\n",
    "sf_permits_with_na_dropped = sf_permits.dropna(axis=1)\n",
    "sf_permits_with_na_dropped.shape\n",
    "\n",
    "print(\"Columns in original dataset: %d \\n\" % sf_permits.shape[1])\n",
    "print(\"Columns with na's dropped: %d\" % sf_permits_with_na_dropped.shape[1])\n",
    "\n",
    "dropped_columns = 31\n",
    "\n",
    "# Check your answer\n",
    "q5.check()"
   ]
  },
  {
   "cell_type": "code",
   "execution_count": 17,
   "id": "454b85c5",
   "metadata": {
    "execution": {
     "iopub.execute_input": "2022-03-09T07:44:04.504344Z",
     "iopub.status.busy": "2022-03-09T07:44:04.503688Z",
     "iopub.status.idle": "2022-03-09T07:44:04.505645Z",
     "shell.execute_reply": "2022-03-09T07:44:04.506176Z",
     "shell.execute_reply.started": "2022-03-09T04:29:00.713624Z"
    },
    "papermill": {
     "duration": 0.034116,
     "end_time": "2022-03-09T07:44:04.506341",
     "exception": false,
     "start_time": "2022-03-09T07:44:04.472225",
     "status": "completed"
    },
    "tags": []
   },
   "outputs": [],
   "source": [
    "# Lines below will give you a hint or solution code\n",
    "#q5.hint()\n",
    "#q5.solution()"
   ]
  },
  {
   "cell_type": "markdown",
   "id": "611cbac6",
   "metadata": {
    "papermill": {
     "duration": 0.027522,
     "end_time": "2022-03-09T07:44:04.561588",
     "exception": false,
     "start_time": "2022-03-09T07:44:04.534066",
     "status": "completed"
    },
    "tags": []
   },
   "source": [
    "# 6) Fill in missing values automatically\n",
    "\n",
    "Try replacing all the NaN's in the `sf_permits` data with the one that comes directly after it and then replacing any remaining NaN's with 0.  Set the result to a new DataFrame `sf_permits_with_na_imputed`."
   ]
  },
  {
   "cell_type": "code",
   "execution_count": 18,
   "id": "4419748d",
   "metadata": {
    "execution": {
     "iopub.execute_input": "2022-03-09T07:44:04.622690Z",
     "iopub.status.busy": "2022-03-09T07:44:04.622048Z",
     "iopub.status.idle": "2022-03-09T07:44:05.464370Z",
     "shell.execute_reply": "2022-03-09T07:44:05.463874Z",
     "shell.execute_reply.started": "2022-03-09T07:02:30.149953Z"
    },
    "papermill": {
     "duration": 0.875017,
     "end_time": "2022-03-09T07:44:05.464519",
     "exception": false,
     "start_time": "2022-03-09T07:44:04.589502",
     "status": "completed"
    },
    "tags": []
   },
   "outputs": [
    {
     "data": {
      "application/javascript": [
       "parent.postMessage({\"jupyterEvent\": \"custom.exercise_interaction\", \"data\": {\"outcomeType\": 1, \"valueTowardsCompletion\": 0.16666666666666666, \"interactionType\": 1, \"questionType\": 1, \"questionId\": \"6_ImputeAutomatically\", \"learnToolsVersion\": \"0.3.4\", \"failureMessage\": \"\", \"exceptionClass\": \"\", \"trace\": \"\"}}, \"*\")"
      ],
      "text/plain": [
       "<IPython.core.display.Javascript object>"
      ]
     },
     "metadata": {},
     "output_type": "display_data"
    },
    {
     "data": {
      "text/markdown": [
       "<span style=\"color:#33cc33\">Correct</span>"
      ],
      "text/plain": [
       "Correct"
      ]
     },
     "metadata": {},
     "output_type": "display_data"
    }
   ],
   "source": [
    "# TODO: Your code here\n",
    "sf_permits_with_na_imputed = sf_permits.fillna(method='bfill', axis=0).fillna(0)\n",
    "sf_permits_with_na_imputed\n",
    "# Check your answer\n",
    "q6.check()"
   ]
  },
  {
   "cell_type": "code",
   "execution_count": 19,
   "id": "ba37094b",
   "metadata": {
    "execution": {
     "iopub.execute_input": "2022-03-09T07:44:05.528368Z",
     "iopub.status.busy": "2022-03-09T07:44:05.527713Z",
     "iopub.status.idle": "2022-03-09T07:44:05.530988Z",
     "shell.execute_reply": "2022-03-09T07:44:05.530500Z"
    },
    "papermill": {
     "duration": 0.036823,
     "end_time": "2022-03-09T07:44:05.531132",
     "exception": false,
     "start_time": "2022-03-09T07:44:05.494309",
     "status": "completed"
    },
    "tags": []
   },
   "outputs": [],
   "source": [
    "# Lines below will give you a hint or solution code\n",
    "#q6.hint()\n",
    "#q6.solution()"
   ]
  },
  {
   "cell_type": "markdown",
   "id": "a60daae2",
   "metadata": {
    "papermill": {
     "duration": 0.028566,
     "end_time": "2022-03-09T07:44:05.589150",
     "exception": false,
     "start_time": "2022-03-09T07:44:05.560584",
     "status": "completed"
    },
    "tags": []
   },
   "source": [
    "# More practice\n",
    "\n",
    "If you're looking for more practice handling missing values:\n",
    "\n",
    "* Check out [this noteboook](https://www.kaggle.com/alexisbcook/missing-values) on handling missing values using scikit-learn's imputer. \n",
    "* Look back at the \"Zipcode\" column in the `sf_permits` dataset, which has some missing values. How would you go about figuring out what the actual zipcode of each address should be? (You might try using another dataset. You can search for datasets about San Fransisco on the [Datasets listing](https://www.kaggle.com/datasets).) \n",
    "\n",
    "# Keep going\n",
    "\n",
    "In the next lesson, learn how to [**apply scaling and normalization**](https://www.kaggle.com/alexisbcook/scaling-and-normalization) to transform your data."
   ]
  },
  {
   "cell_type": "markdown",
   "id": "87a473b4",
   "metadata": {
    "papermill": {
     "duration": 0.028491,
     "end_time": "2022-03-09T07:44:05.646405",
     "exception": false,
     "start_time": "2022-03-09T07:44:05.617914",
     "status": "completed"
    },
    "tags": []
   },
   "source": [
    "---\n",
    "\n",
    "\n",
    "\n",
    "\n",
    "*Have questions or comments? Visit the [course discussion forum](https://www.kaggle.com/learn/data-cleaning/discussion) to chat with other learners.*"
   ]
  }
 ],
 "metadata": {
  "kernelspec": {
   "display_name": "Python 3",
   "language": "python",
   "name": "python3"
  },
  "language_info": {
   "codemirror_mode": {
    "name": "ipython",
    "version": 3
   },
   "file_extension": ".py",
   "mimetype": "text/x-python",
   "name": "python",
   "nbconvert_exporter": "python",
   "pygments_lexer": "ipython3",
   "version": "3.7.12"
  },
  "papermill": {
   "default_parameters": {},
   "duration": 18.52741,
   "end_time": "2022-03-09T07:44:06.385083",
   "environment_variables": {},
   "exception": null,
   "input_path": "__notebook__.ipynb",
   "output_path": "__notebook__.ipynb",
   "parameters": {},
   "start_time": "2022-03-09T07:43:47.857673",
   "version": "2.3.3"
  }
 },
 "nbformat": 4,
 "nbformat_minor": 5
}
